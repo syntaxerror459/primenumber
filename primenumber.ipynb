{
 "cells": [
  {
   "cell_type": "code",
   "execution_count": 1,
   "metadata": {},
   "outputs": [
    {
     "name": "stdout",
     "output_type": "stream",
     "text": [
      "The 5th prime is: 11\n",
      "The 13th prime is: 41\n",
      "Is 5 a prime number: True\n",
      "Is 6 a prime number: False\n",
      "The prime numbers between 0 & 100 are:\n",
      "[2, 3, 5, 7, 11, 13, 17, 19, 23, 29, 31, 37, 41, 43, 47, 53, 59, 61, 67, 71, 73, 79, 83, 89, 97]\n",
      "The prime numbers between 0 & 100 are(Using Sieve):\n",
      "[2, 3, 5, 7, 11, 13, 17, 19, 23, 29, 31, 37, 41, 43, 47, 53, 59, 61, 67, 71, 73, 79, 83, 89, 97]\n",
      "A random prime between 0 & 100: 83\n",
      "A random prime between 0 & 100: 97\n",
      "The largest prime less than 50 is: 47\n",
      "The smallest prime greater than 50 is: 53\n"
     ]
    }
   ],
   "source": [
    "import sympy\n",
    "if __name__ == \"__main__\":\n",
    "    print(\"The 5th prime is:\",sympy.prime(5))\n",
    "    print(\"The 13th prime is:\",sympy.prime(13))\n",
    "    print(\"Is 5 a prime number:\",sympy.isprime(5))\n",
    "    print(\"Is 6 a prime number:\",sympy.isprime(6))\n",
    "    print(\n",
    "        \"The prime numbers between 0 & 100 are:\",\n",
    "        list(sympy.primerange(0, 100)),sep=\"\\n\"\n",
    "    )\n",
    "    print(\n",
    "        \"The prime numbers between 0 & 100 are(Using Sieve):\",\n",
    "        list(sympy.sieve.primerange(0, 100)),sep=\"\\n\"\n",
    "    )\n",
    "    print(\"A random prime between 0 & 100:\", sympy.randprime(0, 100))\n",
    "    print(\"A random prime between 0 & 100:\", sympy.randprime(0, 100))\n",
    "    print(\"The largest prime less than 50 is:\", sympy.prevprime(50))\n",
    "    print(\"The smallest prime greater than 50 is:\", sympy.nextprime(50))"
   ]
  },
  {
   "cell_type": "code",
   "execution_count": null,
   "metadata": {},
   "outputs": [],
   "source": []
  }
 ],
 "metadata": {
  "kernelspec": {
   "display_name": "Python 3.9.13 ('base')",
   "language": "python",
   "name": "python3"
  },
  "language_info": {
   "codemirror_mode": {
    "name": "ipython",
    "version": 3
   },
   "file_extension": ".py",
   "mimetype": "text/x-python",
   "name": "python",
   "nbconvert_exporter": "python",
   "pygments_lexer": "ipython3",
   "version": "3.9.13"
  },
  "orig_nbformat": 4,
  "vscode": {
   "interpreter": {
    "hash": "5b30f736e45932896a1a27b0973802247d41f5c6dfddee68ac14f4b5531b8d9e"
   }
  }
 },
 "nbformat": 4,
 "nbformat_minor": 2
}
